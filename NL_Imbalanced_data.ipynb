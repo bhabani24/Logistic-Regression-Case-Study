{
 "cells": [
  {
   "cell_type": "markdown",
   "id": "3c373fce",
   "metadata": {},
   "source": [
    "# Handling Imbalanced data\n",
    "\n",
    "### Banking data set"
   ]
  },
  {
   "cell_type": "code",
   "execution_count": 1,
   "id": "64b819d3",
   "metadata": {},
   "outputs": [],
   "source": [
    "#### UNDERSAMPLING or DOWNSAMPLING\n",
    "\n",
    "\n",
    "import os\n",
    "import numpy as np\n",
    "import pandas as pd\n",
    "import sklearn\n",
    "\n",
    "\n",
    "############################################\n",
    "\n",
    "# pip install -U imbalanced-learn (in ANACONDA PROMPT)\n",
    "\n",
    "\n",
    "from imblearn.over_sampling import RandomOverSampler  # Oversampling or Upsampling\n",
    "from imblearn.under_sampling import RandomUnderSampler # Undersampling or Downsampling"
   ]
  },
  {
   "cell_type": "code",
   "execution_count": 2,
   "id": "07532711",
   "metadata": {},
   "outputs": [],
   "source": [
    "# Importing the data\n",
    "\n",
    "os.chdir('D:/MLP_Session_26_JULY/MLP_12_16_08_21')\n",
    "data = pd.read_csv('Banking_data.csv')"
   ]
  },
  {
   "cell_type": "code",
   "execution_count": 3,
   "id": "2fef4322",
   "metadata": {},
   "outputs": [
    {
     "data": {
      "text/html": [
       "<div>\n",
       "<style scoped>\n",
       "    .dataframe tbody tr th:only-of-type {\n",
       "        vertical-align: middle;\n",
       "    }\n",
       "\n",
       "    .dataframe tbody tr th {\n",
       "        vertical-align: top;\n",
       "    }\n",
       "\n",
       "    .dataframe thead th {\n",
       "        text-align: right;\n",
       "    }\n",
       "</style>\n",
       "<table border=\"1\" class=\"dataframe\">\n",
       "  <thead>\n",
       "    <tr style=\"text-align: right;\">\n",
       "      <th></th>\n",
       "      <th>job</th>\n",
       "      <th>marital</th>\n",
       "      <th>default</th>\n",
       "      <th>housing</th>\n",
       "      <th>loan</th>\n",
       "      <th>poutcome</th>\n",
       "      <th>y</th>\n",
       "    </tr>\n",
       "  </thead>\n",
       "  <tbody>\n",
       "    <tr>\n",
       "      <th>0</th>\n",
       "      <td>blue-collar</td>\n",
       "      <td>married</td>\n",
       "      <td>unknown</td>\n",
       "      <td>yes</td>\n",
       "      <td>no</td>\n",
       "      <td>nonexistent</td>\n",
       "      <td>0</td>\n",
       "    </tr>\n",
       "    <tr>\n",
       "      <th>1</th>\n",
       "      <td>technician</td>\n",
       "      <td>married</td>\n",
       "      <td>no</td>\n",
       "      <td>no</td>\n",
       "      <td>no</td>\n",
       "      <td>nonexistent</td>\n",
       "      <td>0</td>\n",
       "    </tr>\n",
       "    <tr>\n",
       "      <th>2</th>\n",
       "      <td>management</td>\n",
       "      <td>single</td>\n",
       "      <td>no</td>\n",
       "      <td>yes</td>\n",
       "      <td>no</td>\n",
       "      <td>success</td>\n",
       "      <td>1</td>\n",
       "    </tr>\n",
       "    <tr>\n",
       "      <th>3</th>\n",
       "      <td>services</td>\n",
       "      <td>married</td>\n",
       "      <td>no</td>\n",
       "      <td>no</td>\n",
       "      <td>no</td>\n",
       "      <td>nonexistent</td>\n",
       "      <td>0</td>\n",
       "    </tr>\n",
       "    <tr>\n",
       "      <th>4</th>\n",
       "      <td>retired</td>\n",
       "      <td>married</td>\n",
       "      <td>no</td>\n",
       "      <td>yes</td>\n",
       "      <td>no</td>\n",
       "      <td>success</td>\n",
       "      <td>1</td>\n",
       "    </tr>\n",
       "  </tbody>\n",
       "</table>\n",
       "</div>"
      ],
      "text/plain": [
       "           job  marital  default housing loan     poutcome  y\n",
       "0  blue-collar  married  unknown     yes   no  nonexistent  0\n",
       "1   technician  married       no      no   no  nonexistent  0\n",
       "2   management   single       no     yes   no      success  1\n",
       "3     services  married       no      no   no  nonexistent  0\n",
       "4      retired  married       no     yes   no      success  1"
      ]
     },
     "execution_count": 3,
     "metadata": {},
     "output_type": "execute_result"
    }
   ],
   "source": [
    "data.head()"
   ]
  },
  {
   "cell_type": "code",
   "execution_count": 4,
   "id": "b1ae0be6",
   "metadata": {},
   "outputs": [
    {
     "data": {
      "text/plain": [
       "0    36548\n",
       "1     4640\n",
       "Name: y, dtype: int64"
      ]
     },
     "execution_count": 4,
     "metadata": {},
     "output_type": "execute_result"
    }
   ],
   "source": [
    "# Looking at the frequency of 1 and 0 in the Target column\n",
    "\n",
    "data.y.value_counts()"
   ]
  },
  {
   "cell_type": "code",
   "execution_count": 5,
   "id": "7816283b",
   "metadata": {},
   "outputs": [
    {
     "name": "stdout",
     "output_type": "stream",
     "text": [
      "(4640, 7) (36548, 7)\n"
     ]
    }
   ],
   "source": [
    "# This is a clear case of an Imbalanced data set\n",
    "\n",
    "# Alt way to look at the frequency of 1 and 0\n",
    "\n",
    "ones = data[data['y']==1]\n",
    "\n",
    "zeros = data[data['y']==0]\n",
    "\n",
    "print(ones.shape,zeros.shape)"
   ]
  },
  {
   "cell_type": "code",
   "execution_count": 6,
   "id": "4252b134",
   "metadata": {},
   "outputs": [],
   "source": [
    "# Creating the Independent and Dependent variable set\n",
    "\n",
    "X=data.iloc[:,:-1]\n",
    "Y=data.iloc[:,-1]"
   ]
  },
  {
   "cell_type": "code",
   "execution_count": 7,
   "id": "35863bcf",
   "metadata": {},
   "outputs": [
    {
     "data": {
      "text/html": [
       "<div>\n",
       "<style scoped>\n",
       "    .dataframe tbody tr th:only-of-type {\n",
       "        vertical-align: middle;\n",
       "    }\n",
       "\n",
       "    .dataframe tbody tr th {\n",
       "        vertical-align: top;\n",
       "    }\n",
       "\n",
       "    .dataframe thead th {\n",
       "        text-align: right;\n",
       "    }\n",
       "</style>\n",
       "<table border=\"1\" class=\"dataframe\">\n",
       "  <thead>\n",
       "    <tr style=\"text-align: right;\">\n",
       "      <th></th>\n",
       "      <th>job</th>\n",
       "      <th>marital</th>\n",
       "      <th>default</th>\n",
       "      <th>housing</th>\n",
       "      <th>loan</th>\n",
       "      <th>poutcome</th>\n",
       "    </tr>\n",
       "  </thead>\n",
       "  <tbody>\n",
       "    <tr>\n",
       "      <th>0</th>\n",
       "      <td>blue-collar</td>\n",
       "      <td>married</td>\n",
       "      <td>unknown</td>\n",
       "      <td>yes</td>\n",
       "      <td>no</td>\n",
       "      <td>nonexistent</td>\n",
       "    </tr>\n",
       "    <tr>\n",
       "      <th>1</th>\n",
       "      <td>technician</td>\n",
       "      <td>married</td>\n",
       "      <td>no</td>\n",
       "      <td>no</td>\n",
       "      <td>no</td>\n",
       "      <td>nonexistent</td>\n",
       "    </tr>\n",
       "    <tr>\n",
       "      <th>2</th>\n",
       "      <td>management</td>\n",
       "      <td>single</td>\n",
       "      <td>no</td>\n",
       "      <td>yes</td>\n",
       "      <td>no</td>\n",
       "      <td>success</td>\n",
       "    </tr>\n",
       "    <tr>\n",
       "      <th>3</th>\n",
       "      <td>services</td>\n",
       "      <td>married</td>\n",
       "      <td>no</td>\n",
       "      <td>no</td>\n",
       "      <td>no</td>\n",
       "      <td>nonexistent</td>\n",
       "    </tr>\n",
       "    <tr>\n",
       "      <th>4</th>\n",
       "      <td>retired</td>\n",
       "      <td>married</td>\n",
       "      <td>no</td>\n",
       "      <td>yes</td>\n",
       "      <td>no</td>\n",
       "      <td>success</td>\n",
       "    </tr>\n",
       "  </tbody>\n",
       "</table>\n",
       "</div>"
      ],
      "text/plain": [
       "           job  marital  default housing loan     poutcome\n",
       "0  blue-collar  married  unknown     yes   no  nonexistent\n",
       "1   technician  married       no      no   no  nonexistent\n",
       "2   management   single       no     yes   no      success\n",
       "3     services  married       no      no   no  nonexistent\n",
       "4      retired  married       no     yes   no      success"
      ]
     },
     "execution_count": 7,
     "metadata": {},
     "output_type": "execute_result"
    }
   ],
   "source": [
    "X.head()"
   ]
  },
  {
   "cell_type": "code",
   "execution_count": 8,
   "id": "d5dfab03",
   "metadata": {},
   "outputs": [
    {
     "data": {
      "text/plain": [
       "0    0\n",
       "1    0\n",
       "2    1\n",
       "3    0\n",
       "4    1\n",
       "Name: y, dtype: int64"
      ]
     },
     "execution_count": 8,
     "metadata": {},
     "output_type": "execute_result"
    }
   ],
   "source": [
    "Y.head()"
   ]
  },
  {
   "cell_type": "code",
   "execution_count": 9,
   "id": "762a2f21",
   "metadata": {},
   "outputs": [
    {
     "data": {
      "text/plain": [
       "job         0\n",
       "marital     0\n",
       "default     0\n",
       "housing     0\n",
       "loan        0\n",
       "poutcome    0\n",
       "y           0\n",
       "dtype: int64"
      ]
     },
     "execution_count": 9,
     "metadata": {},
     "output_type": "execute_result"
    }
   ],
   "source": [
    "# Checking for Missing values\n",
    "\n",
    "data.isnull().sum()"
   ]
  },
  {
   "cell_type": "code",
   "execution_count": 10,
   "id": "96562433",
   "metadata": {},
   "outputs": [],
   "source": [
    "# Performing Undersampling using RandomUnderSampler\n",
    "\n",
    "under_sampler = RandomUnderSampler()\n",
    "X_us, y_us = under_sampler.fit_resample(X, Y)"
   ]
  },
  {
   "cell_type": "code",
   "execution_count": 11,
   "id": "e4535f0c",
   "metadata": {},
   "outputs": [
    {
     "data": {
      "text/plain": [
       "((9280, 6), (9280,))"
      ]
     },
     "execution_count": 11,
     "metadata": {},
     "output_type": "execute_result"
    }
   ],
   "source": [
    "# Looking at the shape after undersampling\n",
    "\n",
    "X_us.shape,y_us.shape"
   ]
  },
  {
   "cell_type": "code",
   "execution_count": 12,
   "id": "b2d35f83",
   "metadata": {},
   "outputs": [
    {
     "data": {
      "text/plain": [
       "((41188, 6), (41188,))"
      ]
     },
     "execution_count": 12,
     "metadata": {},
     "output_type": "execute_result"
    }
   ],
   "source": [
    "# Shape of the original data\n",
    "\n",
    "X.shape,Y.shape"
   ]
  },
  {
   "cell_type": "code",
   "execution_count": 13,
   "id": "2fd887ce",
   "metadata": {},
   "outputs": [
    {
     "name": "stdout",
     "output_type": "stream",
     "text": [
      "Original dataset shape Counter({0: 36548, 1: 4640})\n"
     ]
    }
   ],
   "source": [
    "from collections import Counter\n",
    "\n",
    "print('Original dataset shape {}'.format(Counter(Y)))"
   ]
  },
  {
   "cell_type": "code",
   "execution_count": 15,
   "id": "15ee69f9",
   "metadata": {},
   "outputs": [
    {
     "name": "stdout",
     "output_type": "stream",
     "text": [
      "Resampled dataset shape Counter({0: 4640, 1: 4640})\n"
     ]
    }
   ],
   "source": [
    "print('Resampled dataset shape {}'.format(Counter(y_us)))"
   ]
  },
  {
   "cell_type": "code",
   "execution_count": 16,
   "id": "1be31183",
   "metadata": {},
   "outputs": [
    {
     "data": {
      "text/html": [
       "<div>\n",
       "<style scoped>\n",
       "    .dataframe tbody tr th:only-of-type {\n",
       "        vertical-align: middle;\n",
       "    }\n",
       "\n",
       "    .dataframe tbody tr th {\n",
       "        vertical-align: top;\n",
       "    }\n",
       "\n",
       "    .dataframe thead th {\n",
       "        text-align: right;\n",
       "    }\n",
       "</style>\n",
       "<table border=\"1\" class=\"dataframe\">\n",
       "  <thead>\n",
       "    <tr style=\"text-align: right;\">\n",
       "      <th></th>\n",
       "      <th>job</th>\n",
       "      <th>marital</th>\n",
       "      <th>default</th>\n",
       "      <th>housing</th>\n",
       "      <th>loan</th>\n",
       "      <th>poutcome</th>\n",
       "      <th>y</th>\n",
       "    </tr>\n",
       "  </thead>\n",
       "  <tbody>\n",
       "    <tr>\n",
       "      <th>0</th>\n",
       "      <td>blue-collar</td>\n",
       "      <td>married</td>\n",
       "      <td>unknown</td>\n",
       "      <td>yes</td>\n",
       "      <td>no</td>\n",
       "      <td>nonexistent</td>\n",
       "      <td>0</td>\n",
       "    </tr>\n",
       "    <tr>\n",
       "      <th>1</th>\n",
       "      <td>technician</td>\n",
       "      <td>married</td>\n",
       "      <td>no</td>\n",
       "      <td>no</td>\n",
       "      <td>no</td>\n",
       "      <td>nonexistent</td>\n",
       "      <td>0</td>\n",
       "    </tr>\n",
       "    <tr>\n",
       "      <th>2</th>\n",
       "      <td>management</td>\n",
       "      <td>single</td>\n",
       "      <td>no</td>\n",
       "      <td>yes</td>\n",
       "      <td>no</td>\n",
       "      <td>success</td>\n",
       "      <td>1</td>\n",
       "    </tr>\n",
       "    <tr>\n",
       "      <th>3</th>\n",
       "      <td>services</td>\n",
       "      <td>married</td>\n",
       "      <td>no</td>\n",
       "      <td>no</td>\n",
       "      <td>no</td>\n",
       "      <td>nonexistent</td>\n",
       "      <td>0</td>\n",
       "    </tr>\n",
       "    <tr>\n",
       "      <th>4</th>\n",
       "      <td>retired</td>\n",
       "      <td>married</td>\n",
       "      <td>no</td>\n",
       "      <td>yes</td>\n",
       "      <td>no</td>\n",
       "      <td>success</td>\n",
       "      <td>1</td>\n",
       "    </tr>\n",
       "  </tbody>\n",
       "</table>\n",
       "</div>"
      ],
      "text/plain": [
       "           job  marital  default housing loan     poutcome  y\n",
       "0  blue-collar  married  unknown     yes   no  nonexistent  0\n",
       "1   technician  married       no      no   no  nonexistent  0\n",
       "2   management   single       no     yes   no      success  1\n",
       "3     services  married       no      no   no  nonexistent  0\n",
       "4      retired  married       no     yes   no      success  1"
      ]
     },
     "execution_count": 16,
     "metadata": {},
     "output_type": "execute_result"
    }
   ],
   "source": [
    "#### OVERSAMPLING\n",
    "\n",
    "data = pd.read_csv('Banking_data.csv')\n",
    "data.head()\n"
   ]
  },
  {
   "cell_type": "code",
   "execution_count": 17,
   "id": "7a793369",
   "metadata": {},
   "outputs": [
    {
     "data": {
      "text/plain": [
       "(41188, 7)"
      ]
     },
     "execution_count": 17,
     "metadata": {},
     "output_type": "execute_result"
    }
   ],
   "source": [
    "data.shape"
   ]
  },
  {
   "cell_type": "code",
   "execution_count": 18,
   "id": "b014f617",
   "metadata": {},
   "outputs": [
    {
     "data": {
      "text/plain": [
       "0    36548\n",
       "1     4640\n",
       "Name: y, dtype: int64"
      ]
     },
     "execution_count": 18,
     "metadata": {},
     "output_type": "execute_result"
    }
   ],
   "source": [
    "data.y.value_counts()"
   ]
  },
  {
   "cell_type": "code",
   "execution_count": 19,
   "id": "30772bd9",
   "metadata": {},
   "outputs": [
    {
     "name": "stdout",
     "output_type": "stream",
     "text": [
      "(4640, 7) (36548, 7)\n"
     ]
    }
   ],
   "source": [
    "# Alt way\n",
    "\n",
    "ones = data[data['y']==1]\n",
    "\n",
    "zeros = data[data['y']==0]\n",
    "\n",
    "print(ones.shape,zeros.shape)"
   ]
  },
  {
   "cell_type": "code",
   "execution_count": 20,
   "id": "48090728",
   "metadata": {},
   "outputs": [
    {
     "name": "stdout",
     "output_type": "stream",
     "text": [
      "(41188, 6)\n",
      "(41188,)\n"
     ]
    }
   ],
   "source": [
    "print(X.shape)\n",
    "print(Y.shape)"
   ]
  },
  {
   "cell_type": "code",
   "execution_count": 21,
   "id": "ef8c0c62",
   "metadata": {},
   "outputs": [],
   "source": [
    "X=data.iloc[:,:-1]\n",
    "Y=data.iloc[:,-1]"
   ]
  },
  {
   "cell_type": "code",
   "execution_count": 22,
   "id": "c87eff20",
   "metadata": {},
   "outputs": [
    {
     "data": {
      "text/html": [
       "<div>\n",
       "<style scoped>\n",
       "    .dataframe tbody tr th:only-of-type {\n",
       "        vertical-align: middle;\n",
       "    }\n",
       "\n",
       "    .dataframe tbody tr th {\n",
       "        vertical-align: top;\n",
       "    }\n",
       "\n",
       "    .dataframe thead th {\n",
       "        text-align: right;\n",
       "    }\n",
       "</style>\n",
       "<table border=\"1\" class=\"dataframe\">\n",
       "  <thead>\n",
       "    <tr style=\"text-align: right;\">\n",
       "      <th></th>\n",
       "      <th>job</th>\n",
       "      <th>marital</th>\n",
       "      <th>default</th>\n",
       "      <th>housing</th>\n",
       "      <th>loan</th>\n",
       "      <th>poutcome</th>\n",
       "    </tr>\n",
       "  </thead>\n",
       "  <tbody>\n",
       "    <tr>\n",
       "      <th>0</th>\n",
       "      <td>blue-collar</td>\n",
       "      <td>married</td>\n",
       "      <td>unknown</td>\n",
       "      <td>yes</td>\n",
       "      <td>no</td>\n",
       "      <td>nonexistent</td>\n",
       "    </tr>\n",
       "    <tr>\n",
       "      <th>1</th>\n",
       "      <td>technician</td>\n",
       "      <td>married</td>\n",
       "      <td>no</td>\n",
       "      <td>no</td>\n",
       "      <td>no</td>\n",
       "      <td>nonexistent</td>\n",
       "    </tr>\n",
       "    <tr>\n",
       "      <th>2</th>\n",
       "      <td>management</td>\n",
       "      <td>single</td>\n",
       "      <td>no</td>\n",
       "      <td>yes</td>\n",
       "      <td>no</td>\n",
       "      <td>success</td>\n",
       "    </tr>\n",
       "    <tr>\n",
       "      <th>3</th>\n",
       "      <td>services</td>\n",
       "      <td>married</td>\n",
       "      <td>no</td>\n",
       "      <td>no</td>\n",
       "      <td>no</td>\n",
       "      <td>nonexistent</td>\n",
       "    </tr>\n",
       "    <tr>\n",
       "      <th>4</th>\n",
       "      <td>retired</td>\n",
       "      <td>married</td>\n",
       "      <td>no</td>\n",
       "      <td>yes</td>\n",
       "      <td>no</td>\n",
       "      <td>success</td>\n",
       "    </tr>\n",
       "  </tbody>\n",
       "</table>\n",
       "</div>"
      ],
      "text/plain": [
       "           job  marital  default housing loan     poutcome\n",
       "0  blue-collar  married  unknown     yes   no  nonexistent\n",
       "1   technician  married       no      no   no  nonexistent\n",
       "2   management   single       no     yes   no      success\n",
       "3     services  married       no      no   no  nonexistent\n",
       "4      retired  married       no     yes   no      success"
      ]
     },
     "execution_count": 22,
     "metadata": {},
     "output_type": "execute_result"
    }
   ],
   "source": [
    "X.head()"
   ]
  },
  {
   "cell_type": "code",
   "execution_count": 23,
   "id": "ca0201ad",
   "metadata": {},
   "outputs": [
    {
     "data": {
      "text/plain": [
       "0    0\n",
       "1    0\n",
       "2    1\n",
       "3    0\n",
       "4    1\n",
       "Name: y, dtype: int64"
      ]
     },
     "execution_count": 23,
     "metadata": {},
     "output_type": "execute_result"
    }
   ],
   "source": [
    "Y.head()"
   ]
  },
  {
   "cell_type": "code",
   "execution_count": 24,
   "id": "4d9c249c",
   "metadata": {},
   "outputs": [
    {
     "data": {
      "text/plain": [
       "job         0\n",
       "marital     0\n",
       "default     0\n",
       "housing     0\n",
       "loan        0\n",
       "poutcome    0\n",
       "y           0\n",
       "dtype: int64"
      ]
     },
     "execution_count": 24,
     "metadata": {},
     "output_type": "execute_result"
    }
   ],
   "source": [
    "data.isnull().sum()"
   ]
  },
  {
   "cell_type": "code",
   "execution_count": 25,
   "id": "79b8f5c3",
   "metadata": {},
   "outputs": [],
   "source": [
    "from imblearn.over_sampling import RandomOverSampler\n",
    "\n",
    "over_sampler =  RandomOverSampler()\n",
    "\n",
    "X_os, y_os = over_sampler.fit_resample(X, Y)"
   ]
  },
  {
   "cell_type": "code",
   "execution_count": 27,
   "id": "618c3b6a",
   "metadata": {},
   "outputs": [
    {
     "data": {
      "text/plain": [
       "((73096, 6), (73096,))"
      ]
     },
     "execution_count": 27,
     "metadata": {},
     "output_type": "execute_result"
    }
   ],
   "source": [
    "X_os.shape,y_os.shape"
   ]
  },
  {
   "cell_type": "code",
   "execution_count": 28,
   "id": "f4bc5dd4",
   "metadata": {},
   "outputs": [
    {
     "data": {
      "text/plain": [
       "((41188, 6), (41188,))"
      ]
     },
     "execution_count": 28,
     "metadata": {},
     "output_type": "execute_result"
    }
   ],
   "source": [
    "X.shape,Y.shape"
   ]
  },
  {
   "cell_type": "code",
   "execution_count": 29,
   "id": "86d6216a",
   "metadata": {},
   "outputs": [
    {
     "name": "stdout",
     "output_type": "stream",
     "text": [
      "Original dataset shape Counter({0: 36548, 1: 4640})\n"
     ]
    }
   ],
   "source": [
    "from collections import Counter\n",
    "\n",
    "print('Original dataset shape {}'.format(Counter(Y)))"
   ]
  },
  {
   "cell_type": "code",
   "execution_count": 30,
   "id": "f860ec21",
   "metadata": {},
   "outputs": [
    {
     "name": "stdout",
     "output_type": "stream",
     "text": [
      "Resampled dataset shape Counter({0: 36548, 1: 36548})\n"
     ]
    }
   ],
   "source": [
    "print('Resampled dataset shape {}'.format(Counter(y_os)))"
   ]
  },
  {
   "cell_type": "code",
   "execution_count": null,
   "id": "2b906208",
   "metadata": {},
   "outputs": [],
   "source": []
  }
 ],
 "metadata": {
  "kernelspec": {
   "display_name": "Python 3",
   "language": "python",
   "name": "python3"
  },
  "language_info": {
   "codemirror_mode": {
    "name": "ipython",
    "version": 3
   },
   "file_extension": ".py",
   "mimetype": "text/x-python",
   "name": "python",
   "nbconvert_exporter": "python",
   "pygments_lexer": "ipython3",
   "version": "3.8.8"
  }
 },
 "nbformat": 4,
 "nbformat_minor": 5
}
